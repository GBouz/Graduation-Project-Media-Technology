{
 "cells": [
  {
   "cell_type": "markdown",
   "metadata": {},
   "source": [
    "### logs Loader - AUC scores\n",
    "\n",
    "The purpose of this notebook is to load the logs that contain the AUC scores that were produced from the convergence rate of Giorgos data."
   ]
  },
  {
   "cell_type": "code",
   "execution_count": 1,
   "metadata": {},
   "outputs": [
    {
     "name": "stdout",
     "output_type": "stream",
     "text": [
      "The number of files for OCSVM is 26. The first 3 are:\n",
      "convergence experiment with Giorgos data on one-class SVM and 'all best ratios' features.csv,\n",
      "convergence experiment with Giorgos data on one-class SVM and 'all euclidean ratios' features.csv,\n",
      "convergence experiment with Giorgos data on one-class SVM and 'all features' features.csv.\n",
      "\n",
      "The number of files for IF is 26. The first 3 are:\n",
      "convergence experiment with Giorgos data on Isolation Forest and 'all best ratios' features.csv,\n",
      "convergence experiment with Giorgos data on Isolation Forest and 'all euclidean ratios' features.csv,\n",
      "convergence experiment with Giorgos data on Isolation Forest and 'all features' features.csv.\n"
     ]
    }
   ],
   "source": [
    "import numpy as np\n",
    "import pandas as pd\n",
    "import matplotlib.pyplot as plt\n",
    "import os\n",
    "from IPython.display import display, clear_output\n",
    "\n",
    "# Pretty display for notebooks\n",
    "%matplotlib inline\n",
    "\n",
    "random_state = 0\n",
    "\n",
    "rows_each = 60\n",
    "\n",
    "zoom = 40 # number of samples for shorter plot\n",
    "\n",
    "# specify the place from where we will use the data\n",
    "source_path_features_rel = 'data/Main collection - results/logs/'\n",
    "\n",
    "# specify the place from where we will use the data\n",
    "saving_path = 'data/Main collection - results/images/'\n",
    "\n",
    "# find the file names in the directory\n",
    "feature_files = os.listdir(source_path_features_rel)\n",
    "\n",
    "feature_files = [f for f in feature_files if f.startswith('convergence')] # narrow conv\n",
    "feature_files_OCSVM = [f for f in feature_files if 'one-class SVM' in f]  # narrow SVM\n",
    "feature_files_IF = [f for f in feature_files if 'Isolation Forest' in f]  # narrow IF\n",
    "\n",
    "# remove the readme, and the Giorgos files\n",
    "#feature_files.remove('README.md')\n",
    "#feature_files.remove('best ratios by multiclass RF')\n",
    "\n",
    "print(\"The number of files for OCSVM is {}. The first 3 are:\\n{},\\n{},\\n{}.\\n\"\n",
    "      .format(len(feature_files_OCSVM), *feature_files_OCSVM[:3]))\n",
    "\n",
    "print(\"The number of files for IF is {}. The first 3 are:\\n{},\\n{},\\n{}.\"\n",
    "      .format(len(feature_files_IF), *feature_files_IF[:3]))"
   ]
  },
  {
   "cell_type": "markdown",
   "metadata": {},
   "source": [
    "#### Select a feature group and pull the corresponding files\n",
    "\n",
    "The possible files names will have one of those terms in the title that specifies the group of features they are made of:\n",
    "\n",
    "    'positions', 'position intervals', 'speed intervals', \n",
    "    'x_pos_posInt_speed', 'y_pos_posInt_speed', 'z_pos_posInt_speed', 'magnitudes',\n",
    "    'best_overall', 'all_overall',\n",
    "    'euclidean distances', 'temporal distances', 'all_distances',\n",
    "    'all euclidean ratios', 'all temporal ratios', 'all ratio features',\n",
    "    'best euclidean ratios', 'best temporal ratios', 'all best ratios',\n",
    "    'best overall distances', 'best overall ratios', 'best ratios distances', \n",
    "        'best overall dist ratios',\n",
    "    'pos with distances', 'pos with best ratios', 'pos_distances_best_ratios',\n",
    "    'all features'"
   ]
  },
  {
   "cell_type": "code",
   "execution_count": 22,
   "metadata": {},
   "outputs": [],
   "source": [
    "selected_features = 'pos_distances_best_ratios'\n",
    "\n",
    "selected_file_OCSVM = [f for f in feature_files_OCSVM if selected_features in f][0]\n",
    "selected_file_IF = [f for f in feature_files_IF if selected_features in f][0]\n",
    "\n",
    "# load the files\n",
    "df_OCSVM = pd.read_csv(source_path_features_rel + selected_file_OCSVM)\n",
    "df_IF = pd.read_csv(source_path_features_rel + selected_file_IF)"
   ]
  },
  {
   "cell_type": "markdown",
   "metadata": {},
   "source": [
    "#### Plotting function\n",
    "\n",
    "In the next cell we will specify the plotting function that we will use to create, show and save the AUC convergence rate plots for ocSVM and IF."
   ]
  },
  {
   "cell_type": "code",
   "execution_count": 23,
   "metadata": {},
   "outputs": [],
   "source": [
    "# style\n",
    "plt.style.use('bmh')\n",
    "\n",
    "def plotErrorToSampleCounts(x, y_svm, y_if, feature_set_name, clf_names,\n",
    "                            saving_path=''):\n",
    "    \"\"\" Plots the convergence rate of the AUC of 2 classifiers. \"\"\"\n",
    "    \n",
    "    # init the figure and the axes object\n",
    "    fig, ax = plt.subplots(1, 1)\n",
    "    fig.set_tight_layout(False)\n",
    "\n",
    "    # adjust the size of the figure\n",
    "    fig.set_figwidth(6)\n",
    "    fig.set_figheight(5)\n",
    "        \n",
    "    # plot df1 points\n",
    "    ax.plot(x, y_svm, linewidth=1, color='maroon')#, linestyle='dashed'\n",
    "    ax.plot(x, y_if, linewidth=1, color='darkblue')#, linestyle='dashed'\n",
    "    \n",
    "    # set text axes\n",
    "    ax.set_title(\"Convergence rate on '{}' features\"\n",
    "                 .format(feature_set_name)) if not saving_path else None\n",
    "    ax.set_xlabel('number of training samples')\n",
    "    ax.set_ylabel('AUC score')\n",
    "    # set limits in axis\n",
    "    ax.set_xlim([1, len(x)])\n",
    "    ax.set_ylim([0.3, 1])\n",
    "    \n",
    "    # set the legend\n",
    "    ax.legend(clf_names, shadow=True)\n",
    "    \n",
    "    # save or show\n",
    "    if saving_path:\n",
    "        fig.savefig(\"{}/AUC convergence rate on '{}' features\"\n",
    "                    .format(saving_path, feature_set_name)+'.png',bbox_inches='tight') \n",
    "    else:\n",
    "        plt.show()\n",
    "        \n",
    "    # close the image\n",
    "    plt.close()"
   ]
  },
  {
   "cell_type": "markdown",
   "metadata": {},
   "source": [
    "#### Plot the scores\n",
    "\n",
    "Plots the AUC scores of the SVM and IF. We've been using the first 40 scores most often."
   ]
  },
  {
   "cell_type": "code",
   "execution_count": 24,
   "metadata": {},
   "outputs": [],
   "source": [
    "#df_OCSVM.loc[:39, 'AUC_score']\n",
    "#df_IF.loc[:39, 'AUC_score']"
   ]
  },
  {
   "cell_type": "code",
   "execution_count": 25,
   "metadata": {},
   "outputs": [
    {
     "data": {
      "image/png": "[encoded data removed]",
      "text/plain": [
       "<Figure size 432x360 with 1 Axes>"
      ]
     },
     "metadata": {},
     "output_type": "display_data"
    }
   ],
   "source": [
    "# show the plot\n",
    "plotErrorToSampleCounts(list(range(1, 41)),                    # x\n",
    "                        df_OCSVM.loc[:39, 'AUC_score'],        # y for SVM\n",
    "                        df_IF.loc[:39, 'AUC_score'],           # y for IF\n",
    "                        selected_features,                     # feature group name\n",
    "                        ['one-class SVM', 'Isolation Forest']) # names for legend"
   ]
  },
  {
   "cell_type": "code",
   "execution_count": 26,
   "metadata": {},
   "outputs": [],
   "source": [
    "# save the plot\n",
    "plotErrorToSampleCounts(list(range(1, 41)),                    # x\n",
    "                        df_OCSVM.loc[:39, 'AUC_score'],        # y for SVM\n",
    "                        df_IF.loc[:39, 'AUC_score'],           # y for IF\n",
    "                        selected_features,                     # feature group name\n",
    "                        ['one-class SVM', 'Isolation Forest'], # names for legend\n",
    "                        saving_path=saving_path)"
   ]
  },
  {
   "cell_type": "code",
   "execution_count": null,
   "metadata": {},
   "outputs": [],
   "source": []
  }
 ],
 "metadata": {
  "kernelspec": {
   "display_name": "Python 3",
   "language": "python",
   "name": "python3"
  },
  "language_info": {
   "codemirror_mode": {
    "name": "ipython",
    "version": 3
   },
   "file_extension": ".py",
   "mimetype": "text/x-python",
   "name": "python",
   "nbconvert_exporter": "python",
   "pygments_lexer": "ipython3",
   "version": "3.6.5"
  }
 },
 "nbformat": 4,
 "nbformat_minor": 2
}
